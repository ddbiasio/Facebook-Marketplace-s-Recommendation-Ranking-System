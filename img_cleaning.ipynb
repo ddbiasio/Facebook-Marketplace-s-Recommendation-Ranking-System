{
 "cells": [
  {
   "cell_type": "code",
   "execution_count": 4,
   "metadata": {},
   "outputs": [],
   "source": [
    "from PIL import Image\n",
    "import glob"
   ]
  },
  {
   "cell_type": "code",
   "execution_count": 2,
   "metadata": {},
   "outputs": [],
   "source": [
    "img_list = glob.glob(\"./images/*.jpg\")"
   ]
  },
  {
   "cell_type": "code",
   "execution_count": 12,
   "metadata": {},
   "outputs": [
    {
     "name": "stdout",
     "output_type": "stream",
     "text": [
      "(768, 1024)\n",
      "(734, 1024)\n",
      "(768, 1024)\n",
      "(768, 1024)\n",
      "(1003, 958)\n",
      "(1024, 768)\n"
     ]
    }
   ],
   "source": [
    "# for i in range(0, 6):\n",
    "    img = Image.open(img_list[i])\n",
    "    max_size = 512\n",
    "    img.resize((max_size//2, img.height//2))\n",
    "    print(img.size)"
   ]
  },
  {
   "cell_type": "code",
   "execution_count": 7,
   "metadata": {},
   "outputs": [
    {
     "data": {
      "text/plain": [
       "(768, 1024)"
      ]
     },
     "execution_count": 7,
     "metadata": {},
     "output_type": "execute_result"
    }
   ],
   "source": [
    "img.size"
   ]
  }
 ],
 "metadata": {
  "kernelspec": {
   "display_name": "Python 3.10.4 ('fb-env')",
   "language": "python",
   "name": "python3"
  },
  "language_info": {
   "codemirror_mode": {
    "name": "ipython",
    "version": 3
   },
   "file_extension": ".py",
   "mimetype": "text/x-python",
   "name": "python",
   "nbconvert_exporter": "python",
   "pygments_lexer": "ipython3",
   "version": "3.10.4"
  },
  "orig_nbformat": 4,
  "vscode": {
   "interpreter": {
    "hash": "863e6c010c035b0feeb4880b67bb75f1fc253244f8a89de3a2dd4b45fe89ee4f"
   }
  }
 },
 "nbformat": 4,
 "nbformat_minor": 2
}
