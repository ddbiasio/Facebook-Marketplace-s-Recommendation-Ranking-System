{
 "cells": [
  {
   "cell_type": "code",
   "execution_count": 2,
   "metadata": {},
   "outputs": [],
   "source": [
    "from PIL import Image\n",
    "import glob"
   ]
  },
  {
   "cell_type": "code",
   "execution_count": 3,
   "metadata": {},
   "outputs": [],
   "source": [
    "img_list = glob.glob(\"./images_clean/*.jpg\")"
   ]
  },
  {
   "cell_type": "code",
   "execution_count": 4,
   "metadata": {},
   "outputs": [
    {
     "name": "stdout",
     "output_type": "stream",
     "text": [
      "JPEG\n",
      "RGB\n",
      "(512, 512)\n",
      "JPEG\n",
      "RGB\n",
      "(512, 512)\n",
      "JPEG\n",
      "RGB\n",
      "(512, 512)\n",
      "JPEG\n",
      "RGB\n",
      "(512, 512)\n",
      "JPEG\n",
      "RGB\n",
      "(512, 512)\n",
      "JPEG\n",
      "RGB\n",
      "(512, 512)\n"
     ]
    }
   ],
   "source": [
    "for i in range(0, 6):\n",
    "   \n",
    "    # load and show an image with Pillow\n",
    "    # load the image\n",
    "    image = Image.open(img_list[i])\n",
    "    # summarize some details about the image\n",
    "    print(image.format)\n",
    "    print(image.mode)\n",
    "    print(image.size)\n",
    "    # show the image\n",
    "    image.show()"
   ]
  },
  {
   "cell_type": "code",
   "execution_count": 5,
   "metadata": {},
   "outputs": [],
   "source": [
    "def resize_image(self, final_size: int, image_to_clean: Image):\n",
    "    size = image_to_clean.size\n",
    "    ratio = float(final_size) / max(size)\n",
    "    # Apply ratio to width / height\n",
    "    new_image_size = tuple([int(x*ratio) for x in size])\n",
    "    image_to_clean = image_to_clean.resize(new_image_size, Image.ANTIALIAS)\n",
    "    # create blank new image with 3 channels\n",
    "    new_image = Image.new(\"RGB\", (final_size, final_size))\n",
    "    # paste resized image into new image\n",
    "    new_image.paste(image_to_clean, ((final_size-new_image_size[0])//2, (final_size-new_image_size[1])//2))\n",
    "    return new_image"
   ]
  },
  {
   "cell_type": "code",
   "execution_count": 12,
   "metadata": {},
   "outputs": [
    {
     "name": "stdout",
     "output_type": "stream",
     "text": [
      "(512, 512, 3)\n",
      "None\n",
      "RGB\n",
      "(512, 512)\n"
     ]
    }
   ],
   "source": [
    "# load image and convert to and from NumPy array\n",
    "from PIL import Image\n",
    "from numpy import asarray\n",
    "for i in range(0, 1):\n",
    "    # load the image\n",
    "    image = Image.open(img_list[i])\n",
    "    # convert image to numpy array\n",
    "    data = asarray(image)\n",
    "    # summarize shape\n",
    "    print(data.shape)\n",
    "    # create Pillow image\n",
    "    image2 = Image.fromarray(data)\n",
    "    # summarize image details\n",
    "    print(image2.format)\n",
    "    print(image2.mode)\n",
    "    print(image2.size)\n",
    "    "
   ]
  },
  {
   "cell_type": "code",
   "execution_count": 13,
   "metadata": {},
   "outputs": [
    {
     "ename": "",
     "evalue": "",
     "output_type": "error",
     "traceback": [
      "\u001b[1;31mThe Kernel crashed while executing code in the the current cell or a previous cell. Please review the code in the cell(s) to identify a possible cause of the failure. Click <a href='https://aka.ms/vscodeJupyterKernelCrash'>here</a> for more info. View Jupyter <a href='command:jupyter.viewOutput'>log</a> for further details."
     ]
    }
   ],
   "source": [
    "image2.show()"
   ]
  }
 ],
 "metadata": {
  "kernelspec": {
   "display_name": "Python 3.10.4 ('fb-env')",
   "language": "python",
   "name": "python3"
  },
  "language_info": {
   "codemirror_mode": {
    "name": "ipython",
    "version": 3
   },
   "file_extension": ".py",
   "mimetype": "text/x-python",
   "name": "python",
   "nbconvert_exporter": "python",
   "pygments_lexer": "ipython3",
   "version": "3.10.4"
  },
  "orig_nbformat": 4,
  "vscode": {
   "interpreter": {
    "hash": "863e6c010c035b0feeb4880b67bb75f1fc253244f8a89de3a2dd4b45fe89ee4f"
   }
  }
 },
 "nbformat": 4,
 "nbformat_minor": 2
}
